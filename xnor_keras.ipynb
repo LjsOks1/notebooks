{
 "cells": [
  {
   "cell_type": "code",
   "execution_count": null,
   "metadata": {},
   "outputs": [],
   "source": [
    "import numpy as np\n",
    "from tensorflow import keras\n",
    "\n",
    "class DataGenerator(keras.utils.Sequence):\n",
    "    'Generates data for Keras'\n",
    "    def __init__(self, batch_size=32, dim=(2)):\n",
    "        'Initialization'\n",
    "        self.dim = dim\n",
    "        self.batch_size = batch_size\n",
    "\n",
    "    def __len__(self):\n",
    "        'Denotes the number of batches per epoch'\n",
    "        ' Keep simple, lets have 1000 batches per epoch....'\n",
    "        return 1000\n",
    "\n",
    "    def __getitem__(self, index):\n",
    "        'Generate one batch of data'\n",
    "        \n",
    "        x=np.random.rand(self.dim,self.batch_size)*2-1\n",
    "        y_v=np.any([np.all(x>0 ,axis=1),np.all(x<0,axis=1)],axis=0)\n",
    "        y=(y_v[:,None]!= np.arange(2))\n",
    "\n",
    "        return x, y_v\n",
    "\n"
   ]
  },
  {
   "cell_type": "code",
   "execution_count": null,
   "metadata": {},
   "outputs": [],
   "source": [
    "def build_model(hp):\n",
    "    inputs = keras.Input(shape=(2))\n",
    "    dense=layers.Dense(units=hp.Int('units',min_value=2, max_value=6, step=1),\n",
    "                       activation=\"softmax\")(inputs)\n",
    "    #dense=layers.Dense(4,activation=\"softmax\")(dense)\n",
    "    outputs= layers.Dense(2,activation=\"softmax\")(dense)\n",
    "\n",
    "    model=keras.Model(inputs=inputs,outputs=outputs)\n",
    "    model.compile(optimizer='adam', \n",
    "                  loss='sparse_categorical_crossentropy',\n",
    "                  metrics=[keras.metrics.SparseCategoricalAccuracy(name=\"acc\")])\n",
    "    return model"
   ]
  },
  {
   "cell_type": "code",
   "execution_count": null,
   "metadata": {},
   "outputs": [],
   "source": [
    "import numpy as np\n",
    "from tensorflow import keras\n",
    "from tensorflow.keras import layers\n",
    "\n",
    "\n",
    "labels=['True','False']\n",
    "batch_size=32000\n",
    "# Generators\n",
    "training_generator = DataGenerator((2),batch_size)\n",
    "validation_generator = DataGenerator((2),batch_size)\n",
    "\n",
    "inputs = keras.Input(shape=(2))\n",
    "dense=layers.Dense(4,activation=\"softmax\")(inputs)\n",
    "#dense=layers.Dense(4,activation=\"softmax\")(dense)\n",
    "outputs= layers.Dense(2,activation=\"softmax\")(dense)\n",
    "\n",
    "model=keras.Model(inputs=inputs,outputs=outputs)\n",
    "model.compile(optimizer='adam', \n",
    "              loss='sparse_categorical_crossentropy',\n",
    "              metrics=[keras.metrics.SparseCategoricalAccuracy(name=\"acc\")])\n",
    "\n",
    "model.summary()\n",
    "\n",
    "model.fit_generator(generator=training_generator,\n",
    "                    validation_data=validation_generator,\n",
    "                    use_multiprocessing=True,\n",
    "                    workers=6,\n",
    "                    epochs=10);"
   ]
  },
  {
   "cell_type": "code",
   "execution_count": null,
   "metadata": {},
   "outputs": [],
   "source": [
    "import kerastuner\n",
    "\n",
    "tuner = kerastuner.tuners.Hyperband(\n",
    "  build_model,\n",
    "  objective='val_loss',\n",
    "  max_epochs=100,\n",
    "  max_trials=200,\n",
    "  executions_per_trial=2,\n",
    "  directory='my_dir')\n",
    "\n",
    "tuner.search(generator=training_generator,\n",
    "                    validation_data=validation_generator,\n",
    "                    use_multiprocessing=True,\n",
    "                    workers=6,\n",
    "                    epochs=10);\n",
    "\n",
    "tuner.result_summary()"
   ]
  },
  {
   "cell_type": "code",
   "execution_count": null,
   "metadata": {},
   "outputs": [],
   "source": []
  }
 ],
 "metadata": {
  "kernelspec": {
   "display_name": "Python 3",
   "language": "python",
   "name": "python3"
  },
  "language_info": {
   "codemirror_mode": {
    "name": "ipython",
    "version": 3
   },
   "file_extension": ".py",
   "mimetype": "text/x-python",
   "name": "python",
   "nbconvert_exporter": "python",
   "pygments_lexer": "ipython3",
   "version": "3.7.3"
  }
 },
 "nbformat": 4,
 "nbformat_minor": 4
}
